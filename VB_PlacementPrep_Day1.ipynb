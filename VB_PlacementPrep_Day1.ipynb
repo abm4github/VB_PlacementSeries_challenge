{
  "nbformat": 4,
  "nbformat_minor": 0,
  "metadata": {
    "colab": {
      "provenance": [],
      "authorship_tag": "ABX9TyPkyI/WFtKGnQfEC+DNN1gl",
      "include_colab_link": true
    },
    "kernelspec": {
      "name": "python3",
      "display_name": "Python 3"
    },
    "language_info": {
      "name": "python"
    }
  },
  "cells": [
    {
      "cell_type": "markdown",
      "metadata": {
        "id": "view-in-github",
        "colab_type": "text"
      },
      "source": [
        "<a href=\"https://colab.research.google.com/github/abm4github/VB_PlacementSeries_challenge/blob/main/VB_PlacementPrep_Day1.ipynb\" target=\"_parent\"><img src=\"https://colab.research.google.com/assets/colab-badge.svg\" alt=\"Open In Colab\"/></a>"
      ]
    },
    {
      "cell_type": "markdown",
      "source": [
        "#Q1. Find sub-array of the given array that has maximum sum "
      ],
      "metadata": {
        "id": "vwDsJoPVDAej"
      }
    },
    {
      "cell_type": "markdown",
      "source": [
        "We can answer this in two methods \n",
        "\n",
        "\n",
        "1.   complexity: O(n**2)\n",
        "2.   complexity: O(n)\n",
        "\n"
      ],
      "metadata": {
        "id": "KOf6vxBsDs2F"
      }
    },
    {
      "cell_type": "code",
      "execution_count": 19,
      "metadata": {
        "colab": {
          "base_uri": "https://localhost:8080/"
        },
        "id": "fTSNlP7AC0u7",
        "outputId": "e6028e3a-9bc4-4117-b1ec-7899e884dff5"
      },
      "outputs": [
        {
          "output_type": "stream",
          "name": "stdout",
          "text": [
            "[-1]\n"
          ]
        }
      ],
      "source": [
        "# 2.Complexity: O(n)\n",
        "\n",
        "# L = [12,-3,4,-6,-12,1,4,-6,19]\n",
        "# L = [0,0,0,0,0]\n",
        "L = [-6,-7,-8,-1]\n",
        "\n",
        "max = L[0]\n",
        "n = len(L)\n",
        "for i in range(n):\n",
        "  if L[i] >= max:\n",
        "    max = L[i]\n",
        "    spos,epos,pos = i,i,i\n",
        "sum = 0\n",
        "\n",
        "for p in range(pos-1, -1, -1):\n",
        "  sum += L[p]\n",
        "  if sum > 0:\n",
        "    spos = p\n",
        "    sum = 0 \n",
        "sum = 0\n",
        "for p in range(pos+1, n, 1):\n",
        "  sum += L[p]\n",
        "  if sum > 0:\n",
        "    epos = p\n",
        "    sum = 0 \n",
        "print(L[spos:epos+1])"
      ]
    },
    {
      "cell_type": "markdown",
      "source": [
        "In above question, we can complicate in various ways, like\n",
        "\n",
        "\n",
        "1.   sub-array with maximum length\n",
        "2.   sub-array without use of particular stated element\n",
        "\n"
      ],
      "metadata": {
        "id": "079zjSJJIzW4"
      }
    }
  ]
}