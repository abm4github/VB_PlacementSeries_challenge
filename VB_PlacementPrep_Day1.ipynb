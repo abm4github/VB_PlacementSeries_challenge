{
  "nbformat": 4,
  "nbformat_minor": 0,
  "metadata": {
    "colab": {
      "provenance": [],
      "authorship_tag": "ABX9TyPJYAkc5y4MJNJxV/N6lRZd",
      "include_colab_link": true
    },
    "kernelspec": {
      "name": "python3",
      "display_name": "Python 3"
    },
    "language_info": {
      "name": "python"
    }
  },
  "cells": [
    {
      "cell_type": "markdown",
      "metadata": {
        "id": "view-in-github",
        "colab_type": "text"
      },
      "source": [
        "<a href=\"https://colab.research.google.com/github/abm4github/VB_PlacementSeries_challenge/blob/main/VB_PlacementPrep_Day1.ipynb\" target=\"_parent\"><img src=\"https://colab.research.google.com/assets/colab-badge.svg\" alt=\"Open In Colab\"/></a>"
      ]
    },
    {
      "cell_type": "markdown",
      "source": [
        "#Q1. Find continuous sub-array of the given array that has maximum sum "
      ],
      "metadata": {
        "id": "vwDsJoPVDAej"
      }
    },
    {
      "cell_type": "markdown",
      "source": [
        "We can answer this in two methods \n",
        "\n",
        "\n",
        "1.   complexity: O(n**2)\n",
        "2.   complexity: O(n)\n",
        "\n"
      ],
      "metadata": {
        "id": "KOf6vxBsDs2F"
      }
    },
    {
      "cell_type": "code",
      "execution_count": 38,
      "metadata": {
        "colab": {
          "base_uri": "https://localhost:8080/"
        },
        "id": "fTSNlP7AC0u7",
        "outputId": "66415957-51b1-4598-beff-434ac9941526"
      },
      "outputs": [
        {
          "output_type": "stream",
          "name": "stdout",
          "text": [
            "[80, -1, 10, 90] 179\n"
          ]
        }
      ],
      "source": [
        "# 2.Complexity: O(n)\n",
        "# in actual: 2n\n",
        "\n",
        "# L = [12,-3,-4,-6,12,1,4,-6,19]\n",
        "# L = [0,0,0,0,0]\n",
        "# L = [-6,-7,-8,-1]\n",
        "L = [35,-30,-9,80,-1,10,90]\n",
        "\n",
        "max = L[0]\n",
        "n = len(L)\n",
        "for i in range(n):\n",
        "  if L[i] >= max:\n",
        "    max = L[i]\n",
        "    spos,epos,pos = i,i,i\n",
        "sum = 0\n",
        "\n",
        "for p in range(pos-1, -1, -1):\n",
        "  sum += L[p]\n",
        "  if sum > 0:\n",
        "    spos = p\n",
        "    max += sum \n",
        "    sum = 0 \n",
        "sum = 0\n",
        "for p in range(pos+1, n, 1):\n",
        "  sum += L[p]\n",
        "  if sum > 0:\n",
        "    epos = p\n",
        "    max += sum\n",
        "    sum = 0 \n",
        "print(L[spos:epos+1], max)"
      ]
    },
    {
      "cell_type": "code",
      "source": [
        "# complexity: O(n)\n",
        "# inactual: n\n",
        "# VB\n",
        "\n",
        "# L = [4,-3,4,-4,-6,12,1,4,-6,19]\n",
        "L = [35,-30,-9,80,-1,10,90]\n",
        "# L = [-6,-7,-8,-1]\n",
        "maxi = L[0]\n",
        "c = 0\n",
        "for i in L:\n",
        "  c += i\n",
        "  if maxi < c:\n",
        "    maxi = c\n",
        "  if c < 0:\n",
        "    c = 0\n",
        "print(maxi)"
      ],
      "metadata": {
        "colab": {
          "base_uri": "https://localhost:8080/"
        },
        "id": "0Mx6S_1FO3Iw",
        "outputId": "7c74f5cc-20a4-4f6f-e6ff-59defef4802a"
      },
      "execution_count": 37,
      "outputs": [
        {
          "output_type": "stream",
          "name": "stdout",
          "text": [
            "179\n"
          ]
        }
      ]
    },
    {
      "cell_type": "markdown",
      "source": [
        "In above question, we can complicate in various ways, like\n",
        "\n",
        "\n",
        "1.   sub-array with maximum length\n",
        "2.   sub-array without use of particular stated element\n",
        "\n"
      ],
      "metadata": {
        "id": "079zjSJJIzW4"
      }
    }
  ]
}