{
  "nbformat": 4,
  "nbformat_minor": 0,
  "metadata": {
    "colab": {
      "provenance": [],
      "authorship_tag": "ABX9TyOnqnl/PYm1CLXugEuqXUeR",
      "include_colab_link": true
    },
    "kernelspec": {
      "name": "python3",
      "display_name": "Python 3"
    },
    "language_info": {
      "name": "python"
    }
  },
  "cells": [
    {
      "cell_type": "markdown",
      "metadata": {
        "id": "view-in-github",
        "colab_type": "text"
      },
      "source": [
        "<a href=\"https://colab.research.google.com/github/abm4github/VB_PlacementSeries_challenge/blob/main/VB_PlacementPrep_Day2.ipynb\" target=\"_parent\"><img src=\"https://colab.research.google.com/assets/colab-badge.svg\" alt=\"Open In Colab\"/></a>"
      ]
    },
    {
      "cell_type": "markdown",
      "source": [
        "# Rotation of a matrix by 90 degrees"
      ],
      "metadata": {
        "id": "mxfkRxfliUF_"
      }
    },
    {
      "cell_type": "markdown",
      "source": [
        "rotation of a matrix by 90 degrees, clockwise"
      ],
      "metadata": {
        "id": "ky83yFvgmso9"
      }
    },
    {
      "cell_type": "code",
      "execution_count": 8,
      "metadata": {
        "colab": {
          "base_uri": "https://localhost:8080/"
        },
        "id": "dW7srZfZiGZ3",
        "outputId": "9cb2bc98-0603-4b22-8ba1-29c7ebcd3353"
      },
      "outputs": [
        {
          "output_type": "stream",
          "name": "stdout",
          "text": [
            "[[7, 4, 1], [8, 5, 2], [9, 6, 3]]\n"
          ]
        }
      ],
      "source": [
        "mat = [[1,2,3],[4,5,6],[7,8,9]]\n",
        "n = len(mat)\n",
        "\n",
        "for i in range(n):\n",
        "  for j in range(i):\n",
        "    mat[i][j], mat[j][i] = mat[j][i], mat[i][j]\n",
        "\n",
        "p, q = 0, n-1 \n",
        "while p < q:\n",
        "  for m in range(n):\n",
        "    mat[m][p], mat[m][q] = mat[m][q], mat[m][p]\n",
        "  p += 1\n",
        "  q -= 1\n",
        "print(mat) "
      ]
    },
    {
      "cell_type": "markdown",
      "source": [
        "Things to ponder:\n",
        "\n",
        "\n",
        "1.   How to handle anti-clock wise rotation \n",
        "2.   What if the provided matrix is not a square matrix\n",
        "\n"
      ],
      "metadata": {
        "id": "zoDB7zRWnAIx"
      }
    }
  ]
}