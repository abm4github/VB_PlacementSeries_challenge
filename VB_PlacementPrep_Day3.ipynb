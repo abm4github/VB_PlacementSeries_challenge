{
  "nbformat": 4,
  "nbformat_minor": 0,
  "metadata": {
    "colab": {
      "provenance": [],
      "authorship_tag": "ABX9TyPyH0Y7WplqkfuUjVpiyNbK",
      "include_colab_link": true
    },
    "kernelspec": {
      "name": "python3",
      "display_name": "Python 3"
    },
    "language_info": {
      "name": "python"
    }
  },
  "cells": [
    {
      "cell_type": "markdown",
      "metadata": {
        "id": "view-in-github",
        "colab_type": "text"
      },
      "source": [
        "<a href=\"https://colab.research.google.com/github/abm4github/VB_PlacementSeries_challenge/blob/main/VB_PlacementPrep_Day3.ipynb\" target=\"_parent\"><img src=\"https://colab.research.google.com/assets/colab-badge.svg\" alt=\"Open In Colab\"/></a>"
      ]
    },
    {
      "cell_type": "markdown",
      "source": [
        "# Find next permutation"
      ],
      "metadata": {
        "id": "wDmdorKMh6bT"
      }
    },
    {
      "cell_type": "markdown",
      "source": [
        "Inorder to find next permutation, it is not required to find and sort all the possible permutations as it increases the time and space complexities.\n",
        "\n",
        "we can solve this in O(n), as follows:\n",
        "\n",
        "keep traversing from end-1 element of the list to the begining of it, by keep on checking if the element is lower than the element to its right. then we need to swap those two elements followed by the reversal of the elements right to the swapped ones."
      ],
      "metadata": {
        "id": "IUSABCwj3D2M"
      }
    },
    {
      "cell_type": "code",
      "execution_count": 22,
      "metadata": {
        "colab": {
          "base_uri": "https://localhost:8080/"
        },
        "id": "v0vGWguFhyVd",
        "outputId": "859120ca-7584-4edc-eb79-33a13bd5f68c"
      },
      "outputs": [
        {
          "output_type": "stream",
          "name": "stdout",
          "text": [
            "[1, 1, 0]\n"
          ]
        }
      ],
      "source": [
        "L = [3,4,2,1,5]\n",
        "L = [5,4,3,2,1]\n",
        "L = [2,3,1]\n",
        "L = [1,2]\n",
        "L = [1]\n",
        "L = [0]\n",
        "L = [1,0,1]\n",
        "# L is assigned various values to check our code's validity\n",
        "\n",
        "n = len(L)\n",
        "for i in range(n-1, 0, -1):\n",
        "  if L[i-1] < L[i]:\n",
        "    L[i], L[i-1] = L[i-1], L[i]\n",
        "    k = n-1\n",
        "    while i < k:\n",
        "      L[i], L[k] = L[k], L[i]\n",
        "      i += 1\n",
        "      k -= 1\n",
        "    break\n",
        "print(L)"
      ]
    }
  ]
}