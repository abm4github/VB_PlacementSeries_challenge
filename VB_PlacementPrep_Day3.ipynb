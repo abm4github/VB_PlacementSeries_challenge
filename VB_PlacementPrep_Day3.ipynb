{
  "nbformat": 4,
  "nbformat_minor": 0,
  "metadata": {
    "colab": {
      "provenance": [],
      "authorship_tag": "ABX9TyNCQMEec/IAWTvxU6XeoUj4",
      "include_colab_link": true
    },
    "kernelspec": {
      "name": "python3",
      "display_name": "Python 3"
    },
    "language_info": {
      "name": "python"
    }
  },
  "cells": [
    {
      "cell_type": "markdown",
      "metadata": {
        "id": "view-in-github",
        "colab_type": "text"
      },
      "source": [
        "<a href=\"https://colab.research.google.com/github/abm4github/VB_PlacementSeries_challenge/blob/main/VB_PlacementPrep_Day3.ipynb\" target=\"_parent\"><img src=\"https://colab.research.google.com/assets/colab-badge.svg\" alt=\"Open In Colab\"/></a>"
      ]
    },
    {
      "cell_type": "markdown",
      "source": [
        "# Find next permutation"
      ],
      "metadata": {
        "id": "wDmdorKMh6bT"
      }
    },
    {
      "cell_type": "markdown",
      "source": [
        "Inorder to find next permutation, it is not required to find and sort all the possible permutations as it increases the time and space complexities.\n",
        "\n",
        "we can solve this in O(n), as follows:\n",
        "\n",
        "keep traversing from second last element of the list to the begining of it, by keep on checking if the element is lower than the element to its right.\n",
        "\n",
        "Following are the possiblities:\n",
        "1. If we find such case where element(e) is lower than the element right to it,\n",
        "then transverse again from last element to an element just right to 'e' in order to find \"last element (l) of list\" which satisfy the condition l > e, followed by the reversal of all the elements to the right of e.\n",
        "2. If we find no such case, then reverse the entire list."
      ],
      "metadata": {
        "id": "IUSABCwj3D2M"
      }
    },
    {
      "cell_type": "code",
      "source": [
        "# multiple values of input, L, as various test cases\n",
        "\n",
        "# L = [3,4,2,1,5]\n",
        "# L = [5,4,3,2,1]\n",
        "# L = [2,3,1]\n",
        "# L = [1,2]\n",
        "# L = [1]\n",
        "# L = [0]\n",
        "# L = [1,0,1]\n",
        "L = [1,3,2]\n",
        "\n",
        "n = len(L)\n",
        "swapped = False\n",
        "for i in range(n-2, -1, -1):\n",
        "    if L[i] < L[i+1]:\n",
        "        for j in range(n-1, i, -1):\n",
        "          if L[j] > L[i]:\n",
        "            break\n",
        "        L[i], L[j] = L[j], L[i]\n",
        "        swapped = True\n",
        "        break\n",
        "if not swapped:\n",
        "  i = 0  \n",
        "else:\n",
        "  i += 1 \n",
        "k = n-1\n",
        "while i < k:\n",
        "  L[i], L[k] = L[k], L[i]\n",
        "  i += 1\n",
        "  k -= 1\n",
        "print(L)"
      ],
      "metadata": {
        "colab": {
          "base_uri": "https://localhost:8080/"
        },
        "id": "IQlcb7fzDdHJ",
        "outputId": "6d49fa8a-1dc7-47e0-a25e-f2c97e59c58e"
      },
      "execution_count": null,
      "outputs": [
        {
          "output_type": "stream",
          "name": "stdout",
          "text": [
            "[2, 1, 3]\n"
          ]
        }
      ]
    },
    {
      "cell_type": "code",
      "source": [
        "# alternate, simplified interms of number of lines of code\n",
        "\n",
        "# L = [3,4,2,1,5]\n",
        "# L = [5,4,3,2,1]\n",
        "# L = [2,3,1]\n",
        "# L = [1,2]\n",
        "# L = [1]\n",
        "# L = [0]\n",
        "# L = [1,0,1]\n",
        "L = [1,3,2]\n",
        "\n",
        "n = len(L)\n",
        "if n <= 1:\n",
        "  print(L)\n",
        "else:\n",
        "  for i in range(n-2, -1, -1):\n",
        "      if L[i] < L[i+1]:\n",
        "          for j in range(n-1, i, -1):\n",
        "              if L[j] > L[i]:\n",
        "                  break\n",
        "          L[i], L[j] = L[j], L[i]\n",
        "          swapped = True\n",
        "          i += 1\n",
        "          break\n",
        "  k = n-1\n",
        "  while i < k:\n",
        "      L[i], L[k] = L[k], L[i]\n",
        "      i += 1\n",
        "      k -= 1\n",
        "  print(L)"
      ],
      "metadata": {
        "colab": {
          "base_uri": "https://localhost:8080/"
        },
        "id": "nf2LnxtHa2Mk",
        "outputId": "7a3216ba-f3d2-4c9b-982a-6ad9f7074852"
      },
      "execution_count": 55,
      "outputs": [
        {
          "output_type": "stream",
          "name": "stdout",
          "text": [
            "[2, 1, 3]\n"
          ]
        }
      ]
    }
  ]
}